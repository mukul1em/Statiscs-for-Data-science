{
 "cells": [
  {
   "cell_type": "code",
   "execution_count": 1,
   "metadata": {},
   "outputs": [],
   "source": [
    "import numpy as np\n",
    "import matplotlib.pyplot as plt \n",
    "%matplotlib inline"
   ]
  },
  {
   "cell_type": "markdown",
   "metadata": {},
   "source": [
    "###  What are the criteria to identify an outlier? \n",
    "1. Data points that falls outside of 1.5 times of interquartile range above the 3rd quartile and below the 1st quartile\n",
    "\n",
    "\n",
    "2. Data points that falls outside of 3 standard deviation. we can use z score and if the z score falls outside of 2 standard deviation\n",
    "\n",
    "### Various ways to finding the outlier\n",
    "1. Using scatter plot\n",
    "2. Box plot\n",
    "3. Using z score\n",
    "4. Using the IQR "
   ]
  },
  {
   "cell_type": "code",
   "execution_count": 2,
   "metadata": {},
   "outputs": [],
   "source": [
    "dataset = [11,10,12,14,12,15,14,13,102,12,14,17,19,107,10,13,12,14,12,108,12,11,14,13,15,10,15,12,16]"
   ]
  },
  {
   "cell_type": "markdown",
   "metadata": {},
   "source": [
    "### Detecting outlier using z score\n",
    "#### formula for Z score = (x-u)/sigma"
   ]
  },
  {
   "cell_type": "code",
   "execution_count": 5,
   "metadata": {},
   "outputs": [],
   "source": [
    "outliers = []\n",
    "def detect_outliers(data):\n",
    "    threshold= 3 #if within 3rd std if data is falling then not a outlier\n",
    "    mean = np.mean(data)\n",
    "    std = np.std(data)\n",
    "    for i in data:\n",
    "        z_score = (i-mean)/std\n",
    "        if np.abs(z_score) > threshold:\n",
    "            outliers.append(i)\n",
    "    return outliers"
   ]
  },
  {
   "cell_type": "code",
   "execution_count": 6,
   "metadata": {},
   "outputs": [
    {
     "data": {
      "text/plain": [
       "[108]"
      ]
     },
     "execution_count": 6,
     "metadata": {},
     "output_type": "execute_result"
    }
   ],
   "source": [
    "outliers=detect_outliers(dataset)\n",
    "outliers"
   ]
  },
  {
   "cell_type": "markdown",
   "metadata": {},
   "source": [
    "### Interquartile range\n",
    "75% - 25% values\n",
    "\n",
    "### Steps\n",
    "1. Arrange the data in increasing order\n",
    "2. calculate first(q1) and third(q3)\n",
    "3. find the interquartile range(q3-q1)\n",
    "4. find the lower bound q1*1.5\n",
    "5. find the upper bound q3*1.5\n",
    "\n",
    "anything that lies outside of lower and upper bound is an outlier"
   ]
  },
  {
   "cell_type": "code",
   "execution_count": null,
   "metadata": {},
   "outputs": [],
   "source": []
  }
 ],
 "metadata": {
  "kernelspec": {
   "display_name": "Python 3",
   "language": "python",
   "name": "python3"
  },
  "language_info": {
   "codemirror_mode": {
    "name": "ipython",
    "version": 3
   },
   "file_extension": ".py",
   "mimetype": "text/x-python",
   "name": "python",
   "nbconvert_exporter": "python",
   "pygments_lexer": "ipython3",
   "version": "3.7.6"
  }
 },
 "nbformat": 4,
 "nbformat_minor": 4
}
